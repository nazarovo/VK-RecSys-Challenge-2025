{
 "cells": [
  {
   "cell_type": "code",
   "execution_count": 1,
   "id": "ac0e8852",
   "metadata": {},
   "outputs": [],
   "source": [
    "from huggingface_hub import hf_hub_download\n",
    "import polars as pl"
   ]
  },
  {
   "cell_type": "code",
   "execution_count": 2,
   "id": "7a9b941c",
   "metadata": {},
   "outputs": [],
   "source": [
    "submission = pl.read_parquet('submission.parquet')"
   ]
  },
  {
   "cell_type": "code",
   "execution_count": 3,
   "id": "49794554",
   "metadata": {},
   "outputs": [
    {
     "data": {
      "text/plain": [
       "'VK-LSVD/metadata/users_metadata.parquet'"
      ]
     },
     "execution_count": 3,
     "metadata": {},
     "output_type": "execute_result"
    }
   ],
   "source": [
    "hf_hub_download(\n",
    "    repo_id='deepvk/VK-LSVD', repo_type='dataset',\n",
    "    filename='metadata/users_metadata.parquet', local_dir='VK-LSVD'\n",
    ")"
   ]
  },
  {
   "cell_type": "code",
   "execution_count": 4,
   "id": "4bbca6d4",
   "metadata": {},
   "outputs": [],
   "source": [
    "users_metadata = pl.read_parquet('VK-LSVD/metadata/users_metadata.parquet')\n",
    "popular_users = users_metadata.sort('train_interactions_rank').select('user_id')\n",
    "predictions = popular_users.to_numpy()[:len(submission)*100].reshape((len(submission), 100))"
   ]
  },
  {
   "cell_type": "code",
   "execution_count": 5,
   "id": "b1e7153d",
   "metadata": {},
   "outputs": [
    {
     "data": {
      "text/html": [
       "<div><style>\n",
       ".dataframe > thead > tr,\n",
       ".dataframe > tbody > tr {\n",
       "  text-align: right;\n",
       "  white-space: pre-wrap;\n",
       "}\n",
       "</style>\n",
       "<small>shape: (47_765, 2)</small><table border=\"1\" class=\"dataframe\"><thead><tr><th>item_id</th><th>user_id</th></tr><tr><td>u32</td><td>array[u32, 100]</td></tr></thead><tbody><tr><td>3118</td><td>[453232773, 86990582, … 116953252]</td></tr><tr><td>26853</td><td>[207024839, 310318706, … 102417890]</td></tr><tr><td>41654</td><td>[452381271, 348753378, … 185674961]</td></tr><tr><td>55168</td><td>[51348190, 413822332, … 140959458]</td></tr><tr><td>65689</td><td>[386411529, 442835260, … 70264092]</td></tr><tr><td>&hellip;</td><td>&hellip;</td></tr><tr><td>608005402</td><td>[24078335, 58545823, … 166836947]</td></tr><tr><td>608030580</td><td>[381790328, 213252880, … 159820542]</td></tr><tr><td>608034282</td><td>[303850133, 296112462, … 137956098]</td></tr><tr><td>608059951</td><td>[138755139, 38637950, … 325768075]</td></tr><tr><td>608063438</td><td>[162452568, 31651246, … 295354451]</td></tr></tbody></table></div>"
      ],
      "text/plain": [
       "shape: (47_765, 2)\n",
       "┌───────────┬─────────────────────────────────┐\n",
       "│ item_id   ┆ user_id                         │\n",
       "│ ---       ┆ ---                             │\n",
       "│ u32       ┆ array[u32, 100]                 │\n",
       "╞═══════════╪═════════════════════════════════╡\n",
       "│ 3118      ┆ [453232773, 86990582, … 116953… │\n",
       "│ 26853     ┆ [207024839, 310318706, … 10241… │\n",
       "│ 41654     ┆ [452381271, 348753378, … 18567… │\n",
       "│ 55168     ┆ [51348190, 413822332, … 140959… │\n",
       "│ 65689     ┆ [386411529, 442835260, … 70264… │\n",
       "│ …         ┆ …                               │\n",
       "│ 608005402 ┆ [24078335, 58545823, … 1668369… │\n",
       "│ 608030580 ┆ [381790328, 213252880, … 15982… │\n",
       "│ 608034282 ┆ [303850133, 296112462, … 13795… │\n",
       "│ 608059951 ┆ [138755139, 38637950, … 325768… │\n",
       "│ 608063438 ┆ [162452568, 31651246, … 295354… │\n",
       "└───────────┴─────────────────────────────────┘"
      ]
     },
     "execution_count": 5,
     "metadata": {},
     "output_type": "execute_result"
    }
   ],
   "source": [
    "submission = submission.with_columns(user_id=predictions)\n",
    "submission"
   ]
  },
  {
   "cell_type": "code",
   "execution_count": 6,
   "id": "b69a649e",
   "metadata": {},
   "outputs": [],
   "source": [
    "submission.write_parquet('submission.parquet')"
   ]
  }
 ],
 "metadata": {
  "kernelspec": {
   "display_name": ".venv",
   "language": "python",
   "name": "python3"
  },
  "language_info": {
   "codemirror_mode": {
    "name": "ipython",
    "version": 3
   },
   "file_extension": ".py",
   "mimetype": "text/x-python",
   "name": "python",
   "nbconvert_exporter": "python",
   "pygments_lexer": "ipython3",
   "version": "3.13.5"
  }
 },
 "nbformat": 4,
 "nbformat_minor": 5
}
